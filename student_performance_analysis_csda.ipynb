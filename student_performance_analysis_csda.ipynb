{
 "cells": [
  {
   "cell_type": "markdown",
   "id": "3a6fd0c6",
   "metadata": {},
   "source": [
    "# 🎓 Student Performance Analysis Project (with B.Sc CSDA Students)\n",
    "This notebook analyzes student performance using a synthetic dataset of Indian students, including B.Sc CSDA students. We train regression models to predict final exam scores based on study habits, attendance, and previous performance."
   ]
  },
  {
   "cell_type": "code",
   "execution_count": null,
   "id": "57dc306d",
   "metadata": {},
   "outputs": [],
   "source": [
    "import pandas as pd\n",
    "import numpy as np\n",
    "import matplotlib.pyplot as plt\n",
    "from sklearn.model_selection import train_test_split\n",
    "from sklearn.linear_model import LinearRegression\n",
    "from sklearn.ensemble import RandomForestRegressor\n",
    "from sklearn.metrics import r2_score, mean_absolute_error\n",
    "import seaborn as sns\n",
    "\n",
    "# Display settings\n",
    "pd.set_option('display.max_columns', None)\n"
   ]
  },
  {
   "cell_type": "markdown",
   "id": "67382824",
   "metadata": {},
   "source": [
    "## 📂 Load the Dataset"
   ]
  },
  {
   "cell_type": "code",
   "execution_count": null,
   "id": "af8e6fde",
   "metadata": {},
   "outputs": [],
   "source": [
    "# Load the CSV dataset (already generated with B.Sc CSDA students)\n",
    "df = pd.read_csv(\"student_performance_india_with_csda.csv\")\n",
    "print(\"Dataset shape:\", df.shape)\n",
    "df.head(10)"
   ]
  },
  {
   "cell_type": "markdown",
   "id": "211d4eb6",
   "metadata": {},
   "source": [
    "## 🔍 Data Summary & Info"
   ]
  },
  {
   "cell_type": "code",
   "execution_count": null,
   "id": "bf8f6611",
   "metadata": {},
   "outputs": [],
   "source": [
    "df.info()\n",
    "df.describe(include='all')"
   ]
  },
  {
   "cell_type": "markdown",
   "id": "3a0bf7aa",
   "metadata": {},
   "source": [
    "## 📊 Correlation Heatmap"
   ]
  },
  {
   "cell_type": "code",
   "execution_count": null,
   "id": "c6e61d16",
   "metadata": {},
   "outputs": [],
   "source": [
    "plt.figure(figsize=(8,6))\n",
    "sns.heatmap(df.corr(numeric_only=True), annot=True, fmt=\".2f\", cmap=\"coolwarm\")\n",
    "plt.title(\"Correlation Heatmap of Features\")\n",
    "plt.show()"
   ]
  },
  {
   "cell_type": "markdown",
   "id": "8d4f43d6",
   "metadata": {},
   "source": [
    "## 📈 Feature Relationships"
   ]
  },
  {
   "cell_type": "code",
   "execution_count": null,
   "id": "e6c8b84e",
   "metadata": {},
   "outputs": [],
   "source": [
    "fig, axes = plt.subplots(1, 3, figsize=(15,4))\n",
    "sns.scatterplot(x=\"Hours_Studied_per_week\", y=\"Final_Score\", data=df, ax=axes[0])\n",
    "sns.scatterplot(x=\"Attendance_pct\", y=\"Final_Score\", data=df, ax=axes[1])\n",
    "sns.scatterplot(x=\"Previous_Score\", y=\"Final_Score\", data=df, ax=axes[2])\n",
    "axes[0].set_title(\"Hours vs Final Score\")\n",
    "axes[1].set_title(\"Attendance vs Final Score\")\n",
    "axes[2].set_title(\"Previous Score vs Final Score\")\n",
    "plt.tight_layout()\n",
    "plt.show()"
   ]
  },
  {
   "cell_type": "markdown",
   "id": "735bbf10",
   "metadata": {},
   "source": [
    "## 🧑‍💻 Train/Test Split"
   ]
  },
  {
   "cell_type": "code",
   "execution_count": null,
   "id": "c25774c9",
   "metadata": {},
   "outputs": [],
   "source": [
    "features = [\"Hours_Studied_per_week\",\"Attendance_pct\",\"Previous_Score\"]\n",
    "X = df[features]\n",
    "y = df[\"Final_Score\"]\n",
    "\n",
    "X_train, X_test, y_train, y_test = train_test_split(X, y, test_size=0.2, random_state=42)\n",
    "print(\"Train size:\", X_train.shape, \"Test size:\", X_test.shape)"
   ]
  },
  {
   "cell_type": "markdown",
   "id": "16c9960a",
   "metadata": {},
   "source": [
    "## 📐 Linear Regression Model"
   ]
  },
  {
   "cell_type": "code",
   "execution_count": null,
   "id": "3564a631",
   "metadata": {},
   "outputs": [],
   "source": [
    "lr = LinearRegression()\n",
    "lr.fit(X_train, y_train)\n",
    "y_pred_lr = lr.predict(X_test)\n",
    "\n",
    "print(\"Linear Regression:\")\n",
    "print(\"R2 score:\", r2_score(y_test, y_pred_lr))\n",
    "print(\"MAE:\", mean_absolute_error(y_test, y_pred_lr))"
   ]
  },
  {
   "cell_type": "markdown",
   "id": "02272955",
   "metadata": {},
   "source": [
    "## 🌳 Random Forest Model"
   ]
  },
  {
   "cell_type": "code",
   "execution_count": null,
   "id": "981a210b",
   "metadata": {},
   "outputs": [],
   "source": [
    "rf = RandomForestRegressor(n_estimators=150, random_state=42)\n",
    "rf.fit(X_train, y_train)\n",
    "y_pred_rf = rf.predict(X_test)\n",
    "\n",
    "print(\"Random Forest:\")\n",
    "print(\"R2 score:\", r2_score(y_test, y_pred_rf))\n",
    "print(\"MAE:\", mean_absolute_error(y_test, y_pred_rf))"
   ]
  },
  {
   "cell_type": "markdown",
   "id": "395f7d8a",
   "metadata": {},
   "source": [
    "## ⭐ Feature Importance (Random Forest)"
   ]
  },
  {
   "cell_type": "code",
   "execution_count": null,
   "id": "b06bd464",
   "metadata": {},
   "outputs": [],
   "source": [
    "importances = pd.Series(rf.feature_importances_, index=features)\n",
    "importances.sort_values().plot(kind=\"barh\", figsize=(6,4))\n",
    "plt.title(\"Feature Importance (Random Forest)\")\n",
    "plt.show()"
   ]
  },
  {
   "cell_type": "markdown",
   "id": "805bf4cc",
   "metadata": {},
   "source": [
    "## ✅ Conclusion\n",
    "- Hours studied, attendance, and previous scores are strong predictors of final performance.\n",
    "- **Linear Regression** performed very well with R² around 0.86.\n",
    "- Random Forest gave a baseline with slightly lower accuracy but more flexibility.\n",
    "- Dataset included **B.Sc CSDA students** along with other departments.\n",
    "- Recommendation: Students should balance study hours and maintain high attendance for better academic performance."
   ]
  }
 ],
 "metadata": {},
 "nbformat": 4,
 "nbformat_minor": 5
}